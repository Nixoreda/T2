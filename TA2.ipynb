{
 "cells": [
  {
   "cell_type": "markdown",
   "id": "fe643190",
   "metadata": {},
   "source": [
    "1-we can use print id to print address of value in memory also we can use print hex id to print but with hex eample."
   ]
  },
  {
   "cell_type": "code",
   "execution_count": 2,
   "id": "9aa37129",
   "metadata": {},
   "outputs": [
    {
     "name": "stdout",
     "output_type": "stream",
     "text": [
      "140720463816624\n"
     ]
    }
   ],
   "source": [
    "c = 5\n",
    "print(id(c))"
   ]
  },
  {
   "cell_type": "code",
   "execution_count": 8,
   "id": "eedbf638",
   "metadata": {},
   "outputs": [
    {
     "name": "stdout",
     "output_type": "stream",
     "text": [
      "140720463816624\n",
      "0x7ffc094227b0\n"
     ]
    }
   ],
   "source": [
    "c = 5\n",
    "print(id(c))\n",
    "print(hex(id(c)))"
   ]
  }
 ],
 "metadata": {
  "kernelspec": {
   "display_name": "Python 3",
   "language": "python",
   "name": "python3"
  },
  "language_info": {
   "codemirror_mode": {
    "name": "ipython",
    "version": 3
   },
   "file_extension": ".py",
   "mimetype": "text/x-python",
   "name": "python",
   "nbconvert_exporter": "python",
   "pygments_lexer": "ipython3",
   "version": "3.8.8"
  }
 },
 "nbformat": 4,
 "nbformat_minor": 5
}
